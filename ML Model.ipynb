{
  "nbformat": 4,
  "nbformat_minor": 0,
  "metadata": {
    "colab": {
      "name": "ASD.ipynb",
      "version": "0.3.2",
      "provenance": []
    },
    "kernelspec": {
      "name": "python3",
      "display_name": "Python 3"
    },
    "accelerator": "GPU"
  },
  "cells": [
    {
      "cell_type": "code",
      "metadata": {
        "id": "MQ0EHdDPxrVX",
        "colab_type": "code",
        "colab": {}
      },
      "source": [
        "import numpy as np\n",
        "from keras.models import Sequential\n",
        "from keras.layers import Dense, Dropout, Activation, Flatten\n",
        "from keras.layers import Convolution2D, MaxPooling2D,Conv2D\n",
        "from keras.utils import np_utils\n",
        "from sklearn.model_selection import train_test_split\n",
        "from sklearn.metrics import roc_auc_score,roc_curve,auc\n",
        "import zipfile\n",
        "from sklearn.model_selection import StratifiedKFold\n",
        "from scipy import interp\n",
        "import pandas as pd"
      ],
      "execution_count": 0,
      "outputs": []
    },
    {
      "cell_type": "code",
      "metadata": {
        "id": "StaDJVjP5tH6",
        "colab_type": "code",
        "colab": {}
      },
      "source": [
        "#Uncompressing zip file\n",
        "zip_ref = zipfile.ZipFile('ASD_Cropped.zip', 'r')\n",
        "zip_ref.extractall()\n",
        "zip_ref.close()"
      ],
      "execution_count": 0,
      "outputs": []
    },
    {
      "cell_type": "code",
      "metadata": {
        "id": "s6sqcCOM6jii",
        "colab_type": "code",
        "colab": {}
      },
      "source": [
        "# Reading data\n",
        "np.random.seed(123)\n",
        "my_data = np.genfromtxt('ASD_Cropped.csv', delimiter=',')\n",
        "\n",
        "labels = my_data[1:,0].astype(dtype='int')\n",
        "features = my_data[1:,1:]"
      ],
      "execution_count": 0,
      "outputs": []
    },
    {
      "cell_type": "code",
      "metadata": {
        "id": "V5euxCVO7iVg",
        "colab_type": "code",
        "outputId": "25096bee-c2e7-43ea-a975-05200b033817",
        "colab": {
          "base_uri": "https://localhost:8080/",
          "height": 54
        }
      },
      "source": [
        "print(features.shape)\n",
        "print(labels.shape)"
      ],
      "execution_count": 16,
      "outputs": [
        {
          "output_type": "stream",
          "text": [
            "(5985, 22500)\n",
            "(5985,)\n"
          ],
          "name": "stdout"
        }
      ]
    },
    {
      "cell_type": "code",
      "metadata": {
        "id": "rDdQUyHh_1ta",
        "colab_type": "code",
        "colab": {}
      },
      "source": [
        "folds = 3\n",
        "kfold = StratifiedKFold(n_splits=folds, shuffle=True, random_state=42).split(features, labels)"
      ],
      "execution_count": 0,
      "outputs": []
    },
    {
      "cell_type": "code",
      "metadata": {
        "id": "SDmjc8MOJksq",
        "colab_type": "code",
        "outputId": "9ca9421c-4383-4926-a72a-e0d4435e2fbf",
        "colab": {
          "base_uri": "https://localhost:8080/",
          "height": 35
        }
      },
      "source": [
        "features = features.reshape(features.shape[0],150,150,1)\n",
        "print(features.shape)"
      ],
      "execution_count": 18,
      "outputs": [
        {
          "output_type": "stream",
          "text": [
            "(5985, 150, 150, 1)\n"
          ],
          "name": "stdout"
        }
      ]
    },
    {
      "cell_type": "code",
      "metadata": {
        "id": "_9pGUBjFBKSv",
        "colab_type": "code",
        "colab": {
          "base_uri": "https://localhost:8080/",
          "height": 546
        },
        "outputId": "1a2b48eb-e0cf-41a2-bc2e-ef3ac6a84d4a"
      },
      "source": [
        "tprs = []\n",
        "aucs = []\n",
        "mean_fpr = np.linspace(0, 1, 100)\n",
        "\n",
        "for train, test in kfold:  \n",
        "  #Defining model architecture\n",
        "  model = Sequential()\n",
        "\n",
        "  model = Sequential()\n",
        "  model.add(Convolution2D(16, 2,2, activation='relu',input_shape=(150, 150,1)))\n",
        "\n",
        "  model.add(Convolution2D(32, 2, 2, activation='relu'))\n",
        "  model.add(MaxPooling2D(pool_size=(2, 2)))\n",
        "  model.add(Dropout(0.2))\n",
        "  model.add(Flatten())\n",
        "  model.add(Dense(64, activation='relu'))\n",
        "  model.add(Dropout(0.2))\n",
        "  model.add(Dense(1, activation='sigmoid'))\n",
        "\n",
        "  #Compiling model\n",
        "  model.compile(loss='binary_crossentropy',optimizer='adam',metrics=['accuracy'])\n",
        "  #Fitting model on training data\n",
        "  hist = model.fit(features[train], labels[train],batch_size=12, nb_epoch=10, verbose=1, validation_split=0.30)\n",
        "  pred = model.predict(features[test]).ravel()\n",
        "  fpr, tpr, thresholds = roc_curve(labels[test], pred)\n",
        "  tprs.append(interp(mean_fpr, fpr, tpr))\n",
        "  tprs[-1][0] = 0.0\n",
        "  roc_auc = auc(fpr, tpr)\n",
        "  print(roc_auc)\n",
        "  aucs.append(roc_auc)\n",
        "  \n",
        "\n",
        "print(\"Avg AUC:\", np.mean(aucs))\n"
      ],
      "execution_count": 26,
      "outputs": [
        {
          "output_type": "stream",
          "text": [
            "/usr/local/lib/python3.6/dist-packages/ipykernel_launcher.py:10: UserWarning: Update your `Conv2D` call to the Keras 2 API: `Conv2D(16, (2, 2), activation=\"relu\", input_shape=(150, 150,...)`\n",
            "  # Remove the CWD from sys.path while we load stuff.\n",
            "/usr/local/lib/python3.6/dist-packages/ipykernel_launcher.py:12: UserWarning: Update your `Conv2D` call to the Keras 2 API: `Conv2D(32, (2, 2), activation=\"relu\")`\n",
            "  if sys.path[0] == '':\n",
            "/usr/local/lib/python3.6/dist-packages/ipykernel_launcher.py:23: UserWarning: The `nb_epoch` argument in `fit` has been renamed `epochs`.\n"
          ],
          "name": "stderr"
        },
        {
          "output_type": "stream",
          "text": [
            "Train on 2793 samples, validate on 1198 samples\n",
            "Epoch 1/10\n",
            "2793/2793 [==============================] - 10s 4ms/step - loss: 0.3539 - acc: 0.8607 - val_loss: 1.9545 - val_acc: 0.0668\n",
            "Epoch 2/10\n",
            "2793/2793 [==============================] - 8s 3ms/step - loss: 0.1842 - acc: 0.9320 - val_loss: 4.2282 - val_acc: 0.1244\n",
            "Epoch 3/10\n",
            "2793/2793 [==============================] - 8s 3ms/step - loss: 0.0687 - acc: 0.9767 - val_loss: 4.1680 - val_acc: 0.2437\n",
            "Epoch 4/10\n",
            "2793/2793 [==============================] - 8s 3ms/step - loss: 0.0335 - acc: 0.9900 - val_loss: 6.8882 - val_acc: 0.0876\n",
            "Epoch 5/10\n",
            "2793/2793 [==============================] - 8s 3ms/step - loss: 0.0114 - acc: 0.9975 - val_loss: 7.6762 - val_acc: 0.1452\n",
            "Epoch 6/10\n",
            "2793/2793 [==============================] - 8s 3ms/step - loss: 0.0089 - acc: 0.9964 - val_loss: 9.1067 - val_acc: 0.1185\n",
            "Epoch 7/10\n",
            "2793/2793 [==============================] - 8s 3ms/step - loss: 0.0071 - acc: 0.9971 - val_loss: 8.8636 - val_acc: 0.1486\n",
            "Epoch 8/10\n",
            "2793/2793 [==============================] - 8s 3ms/step - loss: 0.0035 - acc: 0.9989 - val_loss: 7.9614 - val_acc: 0.1720\n",
            "Epoch 9/10\n",
            "2793/2793 [==============================] - 8s 3ms/step - loss: 0.0015 - acc: 0.9996 - val_loss: 9.3472 - val_acc: 0.1477\n",
            "Epoch 10/10\n",
            "2793/2793 [==============================] - 8s 3ms/step - loss: 0.0025 - acc: 0.9993 - val_loss: 8.6481 - val_acc: 0.1711\n",
            "0.8092204801300911\n",
            "Avg AUC: 0.8092204801300911\n"
          ],
          "name": "stdout"
        }
      ]
    },
    {
      "cell_type": "code",
      "metadata": {
        "id": "thvFiSLFSmDj",
        "colab_type": "code",
        "outputId": "528a939d-651c-4a77-a517-7d9426680b0d",
        "colab": {
          "base_uri": "https://localhost:8080/",
          "height": 302
        }
      },
      "source": [
        "import matplotlib.pyplot as plt\n",
        "# Line line from origin represnting random predictions\n",
        "plt.plot([0, 1], [0, 1], linestyle='--', lw=2, color='black',alpha=0.3)\n",
        "#Adding to ROC plot\n",
        "mean_tpr = np.mean(tprs, axis=0)\n",
        "mean_tpr[-1] = 1.0\n",
        "mean_auc = auc(mean_fpr, mean_tpr)\n",
        "std_auc = np.std(aucs)\n",
        "plt.ylabel('True Positive')\n",
        "plt.xlabel('False Positive')\n",
        "plt.plot(mean_fpr, mean_tpr, color='blue',\n",
        "         label=r'With Augmentation (AUC≈%0.2f $\\pm$%0.2f)' % (mean_auc, std_auc),\n",
        "         lw=2, alpha=0.8)"
      ],
      "execution_count": 27,
      "outputs": [
        {
          "output_type": "execute_result",
          "data": {
            "text/plain": [
              "[<matplotlib.lines.Line2D at 0x7f8761d78160>]"
            ]
          },
          "metadata": {
            "tags": []
          },
          "execution_count": 27
        },
        {
          "output_type": "display_data",
          "data": {
            "image/png": "[encoded data removed]",
            "text/plain": [
              "<Figure size 432x288 with 1 Axes>"
            ]
          },
          "metadata": {
            "tags": []
          }
        }
      ]
    }
  ]
}